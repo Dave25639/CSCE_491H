{
 "cells": [
  {
   "cell_type": "code",
   "execution_count": 2,
   "metadata": {},
   "outputs": [],
   "source": [
    "import os\n",
    "import openslide\n",
    "import pandas as pd"
   ]
  },
  {
   "cell_type": "code",
   "execution_count": 3,
   "metadata": {},
   "outputs": [],
   "source": [
    "def get_slide_stats(slide_path):\n",
    "    try:\n",
    "        slide = openslide.OpenSlide(slide_path)\n",
    "        mpp_x = slide.properties.get('openslide.mpp-x')\n",
    "        mpp_y = slide.properties.get('openslide.mpp-y')\n",
    "        base_magnification = slide.properties.get('openslide.objective-power')\n",
    "\n",
    "        if base_magnification is not None:\n",
    "            base_magnification = float(base_magnification)\n",
    "\n",
    "        downsample_factors = slide.level_downsamples\n",
    "        magnifications = [base_magnification / ds if base_magnification else None for ds in downsample_factors]\n",
    "\n",
    "        slide_stats = {\n",
    "            'File': os.path.basename(slide_path),\n",
    "            'MPP X': mpp_x,\n",
    "            'MPP Y': mpp_y,\n",
    "            'Base Magnification': base_magnification,\n",
    "            'Width': slide.dimensions[0],\n",
    "            'Height': slide.dimensions[1],\n",
    "            'Levels': slide.level_count,\n",
    "            'Downsamples': downsample_factors,\n",
    "            'Tile Width': slide.level_dimensions[0][0],\n",
    "            'Tile Height': slide.level_dimensions[0][1],\n",
    "            'Magnifications': magnifications,\n",
    "        }\n",
    "        slide.close()\n",
    "        print(slide_stats)\n",
    "        return slide_stats\n",
    "    except openslide.OpenSlideError as e:\n",
    "        return {'File': os.path.basename(slide_path), 'Error': str(e)}\n",
    "    except ValueError as e:\n",
    "        return {'File': os.path.basename(slide_path), 'Error': 'MPP metadata is missing'}\n",
    "\n",
    "\n",
    "def get_all_slides_stats(base_dir):\n",
    "    \"\"\"\n",
    "    Collect statistics for all `.svs` files in the Biospecimen folder of each case.\n",
    "    \"\"\"\n",
    "    stats = []\n",
    "    for case_dir in os.listdir(base_dir):\n",
    "        case_path = os.path.join(base_dir, case_dir)\n",
    "        if not os.path.isdir(case_path):\n",
    "            continue\n",
    "\n",
    "        biospecimen_dir = os.path.join(case_path, 'Biospecimen')\n",
    "        if not os.path.exists(biospecimen_dir):\n",
    "            print(f\"No Biospecimen folder for case: {case_dir}\")\n",
    "            continue\n",
    "\n",
    "        for root, _, files in os.walk(biospecimen_dir):\n",
    "            for file in files:\n",
    "                if file.endswith('.svs'):\n",
    "                    slide_path = os.path.join(root, file)\n",
    "                    stats.append(get_slide_stats(slide_path))\n",
    "    return stats\n",
    "\n",
    "\n",
    "def save_stats_to_csv(slide_stats, base_dir):\n",
    "    \"\"\"\n",
    "    Save slide statistics to a CSV file in the base directory.\n",
    "    \"\"\"\n",
    "    stats_file = os.path.join(base_dir, 'slide_statistics.csv')\n",
    "    df = pd.DataFrame(slide_stats)\n",
    "    df.to_csv(stats_file, index=False)\n",
    "    print(f\"Slide statistics saved to {stats_file}\")\n"
   ]
  },
  {
   "cell_type": "code",
   "execution_count": 4,
   "metadata": {},
   "outputs": [
    {
     "name": "stdout",
     "output_type": "stream",
     "text": [
      "{'File': 'TCGA-AD-6895-01Z-00-DX1.7FB1FBC6-683B-4285-89D1-A7A20F07A9D4.svs', 'MPP X': '0.252', 'MPP Y': '0.252', 'Base Magnification': 40.0, 'Width': 22062, 'Height': 14792, 'Levels': 3, 'Downsamples': (1.0, 4.000181323662738, 8.001088139281828), 'Tile Width': 22062, 'Tile Height': 14792, 'Magnifications': [40.0, 9.999546711391142, 4.999320005439957]}\n",
      "{'File': 'TCGA-AD-6895-01A-01-TS1.60e5a7e9-6a8d-47ae-8094-7429f03b42b3.svs', 'MPP X': '0.2462', 'MPP Y': '0.2462', 'Base Magnification': 40.0, 'Width': 26656, 'Height': 24435, 'Levels': 3, 'Downsamples': (1.0, 4.00024557956778, 16.00098231827112), 'Tile Width': 26656, 'Tile Height': 24435, 'Magnifications': [40.0, 9.999386088771564, 2.499846522192891]}\n",
      "{'File': 'TCGA-AA-3552-01Z-00-DX1.84133d42-9a39-44b5-a1ec-a5382650c939.svs', 'MPP X': '0.23250000000000001', 'MPP Y': '0.23250000000000001', 'Base Magnification': 20.0, 'Width': 57600, 'Height': 47872, 'Levels': 3, 'Downsamples': (1.0, 4.0, 16.0), 'Tile Width': 57600, 'Tile Height': 47872, 'Magnifications': [20.0, 5.0, 1.25]}\n",
      "{'File': 'TCGA-AA-3552-01A-01-BS1.52c87059-f829-43c0-93ab-a7953df24688.svs', 'MPP X': '0.50149999999999995', 'MPP Y': '0.50149999999999995', 'Base Magnification': 20.0, 'Width': 20000, 'Height': 20448, 'Levels': 3, 'Downsamples': (1.0, 4.0, 8.0), 'Tile Width': 20000, 'Tile Height': 20448, 'Magnifications': [20.0, 5.0, 2.5]}\n",
      "{'File': 'TCGA-AA-3552-01A-01-TS1.3dbe54c4-2660-416b-9558-4537215eef34.svs', 'MPP X': '0.50149999999999995', 'MPP Y': '0.50149999999999995', 'Base Magnification': 20.0, 'Width': 22001, 'Height': 16654, 'Levels': 3, 'Downsamples': (1.0, 4.000331120476929, 8.00162343279018), 'Tile Width': 22001, 'Tile Height': 16654, 'Magnifications': [20.0, 4.999586133663743, 2.4994927801827296]}\n",
      "{'File': 'TCGA-AA-3867-01A-01-TS1.402df8f4-7477-4c52-979e-f6c927bc1702.svs', 'MPP X': '0.50149999999999995', 'MPP Y': '0.50149999999999995', 'Base Magnification': 20.0, 'Width': 16000, 'Height': 17239, 'Levels': 3, 'Downsamples': (1.0, 4.000348108609886, 8.001624883936863), 'Tile Width': 16000, 'Tile Height': 17239, 'Magnifications': [20.0, 4.999564902102973, 2.499492326883467]}\n",
      "{'File': 'TCGA-AA-3867-01A-01-BS1.e61205c4-6f3a-48bf-873a-3539bc4de0da.svs', 'MPP X': '0.50149999999999995', 'MPP Y': '0.50149999999999995', 'Base Magnification': 20.0, 'Width': 16000, 'Height': 18005, 'Levels': 3, 'Downsamples': (1.0, 4.000111086425239, 8.001111111111111), 'Tile Width': 16000, 'Tile Height': 18005, 'Magnifications': [20.0, 4.999861145824655, 2.4996528259963893]}\n",
      "{'File': 'TCGA-AA-3867-01Z-00-DX1.dbc11b4b-732c-4b0a-aaef-ba94b0218fe6.svs', 'MPP X': '0.23250000000000001', 'MPP Y': '0.23250000000000001', 'Base Magnification': 20.0, 'Width': 43776, 'Height': 35584, 'Levels': 3, 'Downsamples': (1.0, 4.0, 16.0), 'Tile Width': 43776, 'Tile Height': 35584, 'Magnifications': [20.0, 5.0, 1.25]}\n",
      "{'File': 'TCGA-AA-3560-01A-01-BS1.55bdf493-a89e-4342-913c-f117c75e3f21.svs', 'MPP X': '0.50149999999999995', 'MPP Y': '0.50149999999999995', 'Base Magnification': 20.0, 'Width': 20000, 'Height': 19313, 'Levels': 3, 'Downsamples': (1.0, 4.000103562551781, 8.000207125103563), 'Tile Width': 20000, 'Tile Height': 19313, 'Magnifications': [20.0, 4.999870550161813, 2.4999352750809063]}\n",
      "{'File': 'TCGA-AA-3560-01A-01-TS1.e28f2269-e4c4-4d22-8c8b-59c650db215d.svs', 'MPP X': '0.50149999999999995', 'MPP Y': '0.50149999999999995', 'Base Magnification': 20.0, 'Width': 18000, 'Height': 18147, 'Levels': 3, 'Downsamples': (1.0, 4.000330687830688, 8.000661375661377), 'Tile Width': 18000, 'Tile Height': 18147, 'Magnifications': [20.0, 4.999586674382077, 2.4997933371910386]}\n",
      "{'File': 'TCGA-AA-3560-01Z-00-DX1.7ca786bd-777e-4b33-8778-fc5e2b061ff1.svs', 'MPP X': '0.23250000000000001', 'MPP Y': '0.23250000000000001', 'Base Magnification': 20.0, 'Width': 47360, 'Height': 39680, 'Levels': 3, 'Downsamples': (1.0, 4.0, 16.0), 'Tile Width': 47360, 'Tile Height': 39680, 'Magnifications': [20.0, 5.0, 1.25]}\n",
      "{'File': 'TCGA-AA-3672-01Z-00-DX1.6cc142eb-e77f-4c09-a6ac-e85470221812.svs', 'MPP X': '0.23250000000000001', 'MPP Y': '0.23250000000000001', 'Base Magnification': 20.0, 'Width': 83712, 'Height': 75008, 'Levels': 4, 'Downsamples': (1.0, 4.0, 16.0, 32.0), 'Tile Width': 83712, 'Tile Height': 75008, 'Magnifications': [20.0, 5.0, 1.25, 0.625]}\n",
      "{'File': 'TCGA-AA-3672-01A-01-BS1.a0ceb6c5-20ba-4a0b-a957-2079ee83adb9.svs', 'MPP X': '0.50149999999999995', 'MPP Y': '0.50149999999999995', 'Base Magnification': 20.0, 'Width': 20000, 'Height': 19171, 'Levels': 3, 'Downsamples': (1.0, 4.000313021702838, 8.000626043405676), 'Tile Width': 20000, 'Tile Height': 19171, 'Magnifications': [20.0, 4.999608753488615, 2.4998043767443074]}\n",
      "{'File': 'TCGA-AA-3672-01A-01-TS1.ce1cd3ae-6c44-4f5c-ae3f-3cc69325702d.svs', 'MPP X': '0.50149999999999995', 'MPP Y': '0.50149999999999995', 'Base Magnification': 20.0, 'Width': 14000, 'Height': 12380, 'Levels': 3, 'Downsamples': (1.0, 4.0, 8.001292824822237), 'Tile Width': 14000, 'Tile Height': 12380, 'Magnifications': [20.0, 5.0, 2.499596057521409]}\n",
      "Slide statistics saved to cases_TEST/slide_statistics.csv\n"
     ]
    }
   ],
   "source": [
    "base_dir = 'cases_TEST'\n",
    "\n",
    "slide_stats = get_all_slides_stats(base_dir)\n",
    "save_stats_to_csv(slide_stats, base_dir)"
   ]
  }
 ],
 "metadata": {
  "kernelspec": {
   "display_name": "research_venv",
   "language": "python",
   "name": "python3"
  },
  "language_info": {
   "codemirror_mode": {
    "name": "ipython",
    "version": 3
   },
   "file_extension": ".py",
   "mimetype": "text/x-python",
   "name": "python",
   "nbconvert_exporter": "python",
   "pygments_lexer": "ipython3",
   "version": "3.12.9"
  }
 },
 "nbformat": 4,
 "nbformat_minor": 2
}
