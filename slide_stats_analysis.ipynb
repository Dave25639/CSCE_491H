{
 "cells": [
  {
   "cell_type": "code",
   "execution_count": 2,
   "metadata": {},
   "outputs": [],
   "source": [
    "import os\n",
    "import openslide\n",
    "import pandas as pd"
   ]
  },
  {
   "cell_type": "code",
   "execution_count": 1,
   "metadata": {},
   "outputs": [],
   "source": [
    "def get_slide_stats(slide_path):\n",
    "    try:\n",
    "        slide = openslide.OpenSlide(slide_path)\n",
    "        mpp_x = slide.properties.get('openslide.mpp-x')\n",
    "        mpp_y = slide.properties.get('openslide.mpp-y')\n",
    "        base_magnification = slide.properties.get('openslide.objective-power')\n",
    "\n",
    "        if base_magnification is not None:\n",
    "            base_magnification = float(base_magnification)\n",
    "\n",
    "        downsample_factors = slide.level_downsamples\n",
    "        magnifications = [base_magnification / ds if base_magnification else None for ds in downsample_factors]\n",
    "\n",
    "        slide_stats = {\n",
    "            'File': os.path.basename(slide_path),\n",
    "            'MPP X': mpp_x,\n",
    "            'MPP Y': mpp_y,\n",
    "            'Base Magnification': base_magnification,\n",
    "            'Width': slide.dimensions[0],\n",
    "            'Height': slide.dimensions[1],\n",
    "            'Levels': slide.level_count,\n",
    "            'Downsamples': downsample_factors,\n",
    "            'Tile Width': slide.level_dimensions[0][0],\n",
    "            'Tile Height': slide.level_dimensions[0][1],\n",
    "            'Magnifications': magnifications,\n",
    "        }\n",
    "        slide.close()\n",
    "        print(slide_stats)\n",
    "        return slide_stats\n",
    "    except openslide.OpenSlideError as e:\n",
    "        return {'File': os.path.basename(slide_path), 'Error': str(e)}\n",
    "    except ValueError as e:\n",
    "        return {'File': os.path.basename(slide_path), 'Error': 'MPP metadata is missing'}\n",
    "\n",
    "\n",
    "def get_all_slides_stats(base_dir):\n",
    "    \"\"\"\n",
    "    Collect statistics for all `.svs` files in the Biospecimen folder of each case.\n",
    "    \"\"\"\n",
    "    stats = []\n",
    "    for case_dir in os.listdir(base_dir):\n",
    "        case_path = os.path.join(base_dir, case_dir)\n",
    "        if not os.path.isdir(case_path):\n",
    "            continue\n",
    "\n",
    "        biospecimen_dir = os.path.join(case_path, 'Biospecimen')\n",
    "        if not os.path.exists(biospecimen_dir):\n",
    "            print(f\"No Biospecimen folder for case: {case_dir}\")\n",
    "            continue\n",
    "\n",
    "        for root, _, files in os.walk(biospecimen_dir):\n",
    "            for file in files:\n",
    "                if file.endswith('.svs'):\n",
    "                    slide_path = os.path.join(root, file)\n",
    "                    stats.append(get_slide_stats(slide_path))\n",
    "    return stats\n",
    "\n",
    "\n",
    "def save_stats_to_csv(slide_stats, base_dir):\n",
    "    \"\"\"\n",
    "    Save slide statistics to a CSV file in the base directory.\n",
    "    \"\"\"\n",
    "    stats_file = os.path.join(base_dir, 'slide_statistics.csv')\n",
    "    df = pd.DataFrame(slide_stats)\n",
    "    df.to_csv(stats_file, index=False)\n",
    "    print(f\"Slide statistics saved to {stats_file}\")\n"
   ]
  },
  {
   "cell_type": "code",
   "execution_count": 4,
   "metadata": {},
   "outputs": [
    {
     "name": "stdout",
     "output_type": "stream",
     "text": [
      "{'File': 'TCGA-AA-3848-01A-01-BS1.628aefd8-6784-416f-b410-143efeeeaeff.svs', 'MPP X': '0.50149999999999995', 'MPP Y': '0.50149999999999995', 'Base Magnification': 20.0, 'Width': 32001, 'Height': 30619, 'Levels': 3, 'Downsamples': (1.0, 4.0002584759602815, 16.003125065342395), 'Tile Width': 32001, 'Tile Height': 30619, 'Magnifications': [20.0, 4.9996769259263685, 1.2497559019465234]}\n",
      "{'File': 'TCGA-AA-3848-01Z-00-DX1.bb018b1c-7748-4865-b00f-42edc35b5047.svs', 'MPP X': '0.23250000000000001', 'MPP Y': '0.23250000000000001', 'Base Magnification': 20.0, 'Width': 56576, 'Height': 51968, 'Levels': 4, 'Downsamples': (1.0, 4.0, 16.0, 32.0), 'Tile Width': 56576, 'Tile Height': 51968, 'Magnifications': [20.0, 5.0, 1.25, 0.625]}\n",
      "{'File': 'TCGA-AA-3848-01A-01-TS1.196d6712-9850-4eaa-b9e1-3242cf64029e.svs', 'MPP X': '0.50149999999999995', 'MPP Y': '0.50149999999999995', 'Base Magnification': 20.0, 'Width': 18000, 'Height': 18274, 'Levels': 3, 'Downsamples': (1.0, 4.0002189141856395, 8.000437828371279), 'Tile Width': 18000, 'Tile Height': 18274, 'Magnifications': [20.0, 4.9997263722432, 2.4998631861216]}\n",
      "No Biospecimen folder for case: GENERAL_METADATA\n",
      "{'File': 'TCGA-AA-3856-01A-01-TS1.6477dda3-4021-4629-bd1d-23eee31aea87.svs', 'MPP X': '0.50149999999999995', 'MPP Y': '0.50149999999999995', 'Base Magnification': 20.0, 'Width': 14000, 'Height': 20283, 'Levels': 3, 'Downsamples': (1.0, 4.000295857988165, 8.00059171597633), 'Tile Width': 14000, 'Tile Height': 20283, 'Magnifications': [20.0, 4.999630204866504, 2.499815102433252]}\n",
      "{'File': 'TCGA-AA-3856-01A-01-BS1.88bb35b2-eae4-4e27-823d-641e10779f22.svs', 'MPP X': '0.50149999999999995', 'MPP Y': '0.50149999999999995', 'Base Magnification': 20.0, 'Width': 14000, 'Height': 17343, 'Levels': 3, 'Downsamples': (1.0, 4.000346020761246, 8.001615136132902), 'Tile Width': 14000, 'Tile Height': 17343, 'Magnifications': [20.0, 4.999567511460946, 2.4994953718388655]}\n",
      "{'File': 'TCGA-AA-3856-01Z-00-DX1.973974e7-fcfe-4866-bc0c-50645c6c304b.svs', 'MPP X': '0.23250000000000001', 'MPP Y': '0.23250000000000001', 'Base Magnification': 20.0, 'Width': 78592, 'Height': 126720, 'Levels': 4, 'Downsamples': (1.0, 4.0, 16.0, 64.0), 'Tile Width': 78592, 'Tile Height': 126720, 'Magnifications': [20.0, 5.0, 1.25, 0.3125]}\n",
      "{'File': 'TCGA-A6-2678-01Z-00-DX1.bded5c5c-555a-492a-91c7-151492d0ee5e.svs', 'MPP X': '0.252', 'MPP Y': '0.252', 'Base Magnification': 40.0, 'Width': 141968, 'Height': 34543, 'Levels': 4, 'Downsamples': (1.0, 4.00017371163868, 16.003475440222427, 64.0472061109057), 'Tile Width': 141968, 'Tile Height': 34543, 'Magnifications': [40.0, 9.999565739762316, 2.499457080395535, 0.6245393426020024]}\n",
      "{'File': 'TCGA-A6-2678-01A-01-BS1.94039d71-9104-4012-9038-76b19560725f.svs', 'MPP X': '0.50149999999999995', 'MPP Y': '0.50149999999999995', 'Base Magnification': 20.0, 'Width': 20000, 'Height': 26435, 'Levels': 3, 'Downsamples': (1.0, 4.000226997578693, 16.000907990314772), 'Tile Width': 20000, 'Tile Height': 26435, 'Magnifications': [20.0, 4.999716269128189, 1.2499290672820473]}\n",
      "{'File': 'TCGA-A6-2678-11A-01-TS1.5a5a17ec-30d4-404a-a0a7-d8a9eeadc127.svs', 'MPP X': '0.50149999999999995', 'MPP Y': '0.50149999999999995', 'Base Magnification': 20.0, 'Width': 20000, 'Height': 12940, 'Levels': 3, 'Downsamples': (1.0, 4.0, 8.001236858379716), 'Tile Width': 20000, 'Tile Height': 12940, 'Magnifications': [20.0, 5.0, 2.499613541505642]}\n",
      "{'File': 'TCGA-A6-2678-01A-01-TS1.74cade3f-41fd-4358-a6a5-25f779b201dc.svs', 'MPP X': '0.2457', 'MPP Y': '0.2457', 'Base Magnification': 40.0, 'Width': 31872, 'Height': 23856, 'Levels': 3, 'Downsamples': (1.0, 4.0, 16.0), 'Tile Width': 31872, 'Tile Height': 23856, 'Magnifications': [40.0, 10.0, 2.5]}\n",
      "{'File': 'TCGA-F4-6703-01Z-00-DX1.28225f5d-d880-4605-831f-f22ec0272cde.svs', 'MPP X': '0.252', 'MPP Y': '0.252', 'Base Magnification': 40.0, 'Width': 176501, 'Height': 85037, 'Levels': 4, 'Downsamples': (1.0, 4.000034850895345, 16.001449818073517, 64.02655466807383), 'Tile Width': 176501, 'Tile Height': 85037, 'Magnifications': [40.0, 9.999912873520747, 2.4997734864512275, 0.6247407846223777]}\n",
      "{'File': 'TCGA-F4-6703-01A-01-BS1.738bf4d8-e97d-4d6a-b953-427aa4945672.svs', 'MPP X': '0.2462', 'MPP Y': '0.2462', 'Base Magnification': 40.0, 'Width': 92344, 'Height': 55383, 'Levels': 4, 'Downsamples': (1.0, 4.000108342361863, 16.00170438919583, 32.010806844251206), 'Tile Width': 92344, 'Tile Height': 55383, 'Magnifications': [40.0, 9.999729151431435, 2.4997337175537093, 1.2495780001616412]}\n",
      "{'File': 'TCGA-F4-6703-01A-01-TS1.a6c16e3f-0ead-4272-8bd3-a8e8e9e30cb8.svs', 'MPP X': '0.2462', 'MPP Y': '0.2462', 'Base Magnification': 40.0, 'Width': 52360, 'Height': 49626, 'Levels': 4, 'Downsamples': (1.0, 4.00008060615831, 16.002834876989755, 32.01083208454925), 'Tile Width': 52360, 'Tile Height': 49626, 'Magnifications': [40.0, 9.99979848866499, 2.499557128938162, 1.249577014878876]}\n",
      "{'File': 'TCGA-D5-6922-01Z-00-DX1.6c11a531-71a3-45ff-b01a-49719b6a195c.svs', 'MPP X': '0.252', 'MPP Y': '0.252', 'Base Magnification': 40.0, 'Width': 140049, 'Height': 26661, 'Levels': 4, 'Downsamples': (1.0, 4.000089299572695, 16.001557723512118, 64.04835598017156), 'Tile Width': 140049, 'Tile Height': 26661, 'Magnifications': [40.0, 9.99977675605216, 2.4997566293952387, 0.6245281301581482]}\n",
      "{'File': 'TCGA-D5-6922-01A-01-BS1.f5f8db9a-34a4-487c-980f-08f0ce399624.svs', 'MPP X': '0.2462', 'MPP Y': '0.2462', 'Base Magnification': 40.0, 'Width': 35224, 'Height': 34636, 'Levels': 3, 'Downsamples': (1.0, 4.0, 16.004589999000622), 'Tile Width': 35224, 'Tile Height': 34636, 'Magnifications': [40.0, 10.0, 2.4992830183402215]}\n",
      "{'File': 'TCGA-D5-6922-01A-01-TS1.6581ec04-ba19-49b3-8ae8-04b4259a8a53.svs', 'MPP X': '0.252', 'MPP Y': '0.252', 'Base Magnification': 40.0, 'Width': 23981, 'Height': 19111, 'Levels': 3, 'Downsamples': (1.0, 4.000397407441097, 8.002299829142375), 'Tile Width': 23981, 'Tile Height': 19111, 'Magnifications': [40.0, 9.999006580095372, 4.998563019887108]}\n",
      "Slide statistics saved to cases_TEST/slide_statistics.csv\n"
     ]
    }
   ],
   "source": [
    "base_dir = 'cases_TEST'\n",
    "\n",
    "slide_stats = get_all_slides_stats(base_dir)\n",
    "save_stats_to_csv(slide_stats, base_dir)"
   ]
  }
 ],
 "metadata": {
  "kernelspec": {
   "display_name": "research_venv",
   "language": "python",
   "name": "python3"
  },
  "language_info": {
   "codemirror_mode": {
    "name": "ipython",
    "version": 3
   },
   "file_extension": ".py",
   "mimetype": "text/x-python",
   "name": "python",
   "nbconvert_exporter": "python",
   "pygments_lexer": "ipython3",
   "version": "3.12.9"
  }
 },
 "nbformat": 4,
 "nbformat_minor": 2
}
