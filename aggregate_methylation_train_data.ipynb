{
 "cells": [
  {
   "cell_type": "code",
   "execution_count": 1,
   "metadata": {},
   "outputs": [
    {
     "name": "stdout",
     "output_type": "stream",
     "text": [
      "['b3c267aa-345d-40d8-a8da-f9f08c64f9c7', 'a85e8208-a6f5-4e91-8f35-ef574f4273fc', '835c3e23-ac2b-4bc9-ac65-e3e81adecf77', 'ea923671-3903-4a79-830d-e7e4b1eabab0', '131e0571-de86-415f-b3fb-dc9f971258d3', '1c111912-c664-42f5-9802-065b1994a2f4', 'acd51808-870c-4684-a2de-aa0b058729e1', 'a9cb21d1-4c4a-4f30-ad4d-c54bed26f187', '912b61a1-6a5b-451c-b753-9c3dac03e8cb', '14efca0c-882d-4fba-b15c-64af6e213b80', '07dc5a1d-64b7-42ba-928e-9753bd533c1e', '3e1886a8-2ed2-41ee-8b58-10f5321ade6f', 'cbe23011-93b7-4e9f-b934-bd0122f91f54', '1136dd50-242a-4659-aad4-c53f9e759bb3', '563d67a1-f1ba-4722-aa2d-9b35b1689468', '4f601d7b-8db1-4c6d-9374-21dcd804980d', 'e3b0ee77-c419-4b2b-833f-90a221415489', '622cc1c4-d721-4b5c-a88b-216d6368660b', 'a782f174-241d-42c6-9bc4-61cc39f8b397', '8c0894fb-5e78-40ae-be0b-329ca30f758a', 'dc22eba5-6fb7-4875-b30a-99fa00758301', '0a815133-0edd-4422-89f2-2f067b6f2156', '17633a60-e12b-4a7c-bd8a-c16341ddc606', '9dcb4e16-b582-4cd0-87cf-04f480ec2cec', '5eed7e8a-c219-4497-a99f-bfc48faca4d8', '143f2dd6-a280-41c5-9242-442ef91b73ec', '7dfbc0ed-e684-4966-8b59-fb6b9e80c129', '8368d745-c74d-4236-ba75-16ca7aaeb3ca', 'd8e9ea52-ff28-4626-baa3-71350fd53ddf', 'f38d49b7-6cad-4460-abd0-3685a3b2d941', '28d03569-8717-40da-8989-70baf2b18f9f', '613aa3e8-a70b-45a9-9c08-0c2346c8bf00', 'a54b322b-80d3-435c-8d14-25841b741f6c', 'd3b7ada6-5395-4212-a921-8e97c92b605d', 'b54865b6-824e-4163-b759-21a6eacc98ce', '1e0789d6-7efb-4807-8d36-cd9224675a0c', 'e4be17c8-0855-432c-bb80-28bb24b62f32', '5116e3b4-2bac-40f5-8046-b9c1783faaa5', '565e2726-4942-4726-89d3-c5e3797f7204', '0cbe9848-8eac-4ea8-a36b-fb74b4a33de7', 'c5c4a0a5-900d-483d-9282-475654d63265', '3334201d-a3c0-45ec-a9ed-cf48cc8c38e8', 'd17a2ab0-faef-40de-a87d-1291868b200d', '32b77693-18e1-4692-8488-add1940c9e7c', '7a70f061-9a6f-408e-a416-7f5295ceba3b', '6e9e0c2f-2ddb-40f1-8e8c-618119e62ec1', '265d7b06-65fe-42c5-ad21-e6b160e94718', '0dc41cd5-0672-407c-9b4a-0f5f3970aa54', 'ca5b878f-8bff-410a-8e6e-b1c133018c8d', 'd5a296ae-c165-413c-adcc-33c9e99ff873', 'c82bbe23-0264-45a7-b1a6-82b4654108c8', '60ad2c8a-6bbf-43fc-ae73-cc1f6d6c163c', '5d73b382-3da3-4220-890e-2095228bbe6c', 'da21e143-dbf6-4ac7-8872-f1d9ae39512d', 'e4c0d890-a634-48bd-9108-e674532b0d2e', '98d45099-feae-4dad-aa38-ec03fed6d999', '2c9996bb-af6e-4424-881a-e81b9c9aeb78', '84e34cf2-b3bb-4a1a-8fb7-6c2c604c4008', '56e612e8-2c29-4782-be79-2813cc8dd2e6', 'a56f6562-d2af-47b9-bf81-94b3b4893173', '490eabca-4575-4bd6-9604-6b6e23d069ce', '86a9e44f-728e-48e4-9e1b-682b023f7c0a', '41f8c9fd-ae52-4458-886b-faf37de77dd0', 'aa85d9e8-caa6-422c-95ce-780e4ac2a5e4', 'a117ace8-ac5a-48d8-8aee-3024d6f0f873', 'e2edbf3f-25d8-49aa-b656-2a59c3b99aeb', '127f738d-afa1-42f6-a9a0-f33806667b84', '5a195baa-2d05-4273-a7c4-64cc816b0406', 'd42bc7f0-cfb2-4ece-ae47-521308635633', 'c1e141af-bdd1-4176-8c0e-cf1ab0c1d9d3', 'ebc5a6f8-34fd-48c1-a2b9-7f60f45fbf27', 'f87c6dcc-1a9e-4df5-962c-1f946e2611f8', '384400c1-98d6-4cc3-8724-de6711f6208b', 'fbb69964-f962-4b89-b59b-dd05f8faf61a', '268c01b3-d2ce-44c0-a2fe-ea846a1253cc', '750770db-53cf-4021-a8c2-5e0ddb97fef5', 'fd16b634-2e04-44a3-862d-fb03cd73c057', '639e1050-088a-48fe-a0ef-4a01a3468cac', '81e7cca8-2d71-4446-9692-872c2fe68d0a', '0712566e-3371-4715-95f1-5b792e72d758', '23d0681a-912a-408f-b19a-0bbcf5ffc2f3', 'd3062aac-4c42-41b4-a9f3-90aa72e6fb1e', 'b76d1de7-6447-474d-bf67-77e0bb2da73a', 'aee20b98-df51-4ead-86cc-0d5f60a74b90', '022f39e9-57ee-4b2b-8b3a-8929e3d69a37', '89a6384e-1cea-440b-9f17-d57cb0805174', '192da41f-f0a5-494e-8eb9-96bcdae56ff8', 'fdffda5f-72b2-4153-b7f1-d7043b7ca898', 'cd845618-4cc4-49c2-9055-c171d4c24ee1', 'd655bbf6-c710-411d-aff5-ceb0fb6e6680', '5342e2e8-1465-4f7b-9450-ef27280f80c7', '8632579e-d318-4dab-9994-d3945afc42ab', 'df5ab6cc-6f68-4b6b-95e2-954c6b57ba9c', '04d7a52f-a89b-4114-a608-a6254b4d604f', 'e394e9ec-7288-4ede-9ef8-41b631d100dd', '7b47489f-c3cc-4388-b5d7-c7c02790a5f6', 'aec0c661-afac-4f7a-8c31-154d743f2499', 'af17788e-a562-43aa-bd36-fd3e031f483c', '86d18004-9478-4e46-83b4-4fbe445ccb70', 'c616f95f-4ea1-4019-8c17-041878085c88', '3a8ca50f-bc9f-4250-8c8d-22893763ea46', 'a94e1279-a975-480a-93e9-7b1ff05cbcbf', '2a7bbafe-d499-4241-ba3d-a52ba0a5db3c', '96e013d9-8e89-46a7-8d07-bae95af36708', 'ad440651-a2de-4bb1-90da-1e5e8975ab59', '92554413-9ebc-4354-8e1b-9682f3a031d9', '15d1b0fb-5c5f-4689-94f5-b33120a2bfae', 'fb9e7684-a7f7-4f17-bc5d-1f359e1b0d42', '09942e9f-c178-44bc-9cd9-f5bfa350b23f', '9c34830b-4d7f-4b41-9659-fbfc36c145c9', '567ddc8e-2b00-417d-a326-479cb02e08dd', 'e17959bd-045d-4540-b43a-c3863e8ff3c0', '2dced66c-1f0d-4039-a5e5-54cca77c16e9', '7d8eab0a-e6c8-4449-9ebf-50c41db94a06', '88832340-46ad-449c-8f81-6a8e5b495510', 'db246424-3979-4f23-b316-8d30c449ee15', 'e8e80df9-e3ba-4dec-b8fc-a5e80d8c6798', 'b107565b-7558-4745-952b-689178367e1c', '4ad9784e-1edc-4186-9b45-4dfe0003f74b', '64dcf1a5-c78c-4d3f-852c-15865b3b6189', '27e2438d-bd01-4c50-9102-563276ed9922', 'dd4be58e-da22-4bcd-bf4c-2b9e60ffda19', '6baf61b6-ae5b-42f0-adc9-0d26fda231f7', '65ab030d-39f2-48ab-80ac-90cb1faa823a', '4a785dc7-f5f6-4607-a19d-e6354b2fb5a9', '41658cf8-0de1-4a97-bb60-0f0107c84e00', '68801d41-535f-4b38-989b-ef4fe5f00039', '93cd5d07-e0d3-40f8-ae7f-beadb1efb7c1', '93ca8937-97c0-4f6e-bdec-66d32f2a7b3d', 'f2ef5afa-6191-43a1-a023-d53c0d985139', '269e8ca8-722d-449b-ace1-6545bd72bdd6', '02f9668c-71e6-485f-88b1-b37dc8bdd2ab', '10994156-7c2f-420e-aeb8-11d566b3d5e4', '96ac1f4b-79b0-4517-8caf-fc05abcaaf4f', 'e7af286b-3dec-4cf2-8fbd-fa64b3efdf7f', '28033279-cc74-4775-afdf-2497f6ddb55c', 'bce3ce45-4fb3-4d8e-9ec7-d24427c2ba4d', '75c3004d-1ef4-49f9-86e0-1bb7b9553a3d', 'abb0d53f-f74e-45dc-8fbb-40863016f3c6', '9743d31a-ea8f-4847-87d2-ebf77cc5983d', 'd976782c-90c1-421d-b83c-7fc2617e2709', '38d65618-4857-490e-86b3-0a3f772a9f60', 'a123dc45-e427-461e-8d60-c51307aa498c', 'eb4e4e09-98b3-4e85-8dd2-75676ff2af14', '19d1a5fc-3ce9-4e43-a364-a4150bcf911b', 'fce1fd5a-54d2-4260-b187-4eb7035e96e9', '2d3ce817-b269-4662-a92d-392bd3662399', 'a72dd578-3a6f-4807-a843-4a942500944e', 'e703af88-c05f-4d7b-b225-d640e4d1a2a5', '85e95dda-6198-464a-9187-fd0832bebb72', '57cdaa1c-4e94-4a28-ab3b-300c0457555f', '5f6ed48b-3b5a-4d20-8fbf-c9aa3feea186', 'df228c56-89ac-4122-93b3-6c0740c4ec09', '9cdca5d8-ea77-4df9-b2ba-0d5e8ec37bcd', 'b3fea9bb-53f9-4ddb-922d-b570562d7a7d', '5da56982-6de7-4994-aa9e-3b01200b2959', '7570761b-c333-40df-ac8c-9b7f94c58ef9', 'beb63625-d9bf-4ccd-bc53-635b53d24240', 'b823d6e5-54b0-43d3-95e2-9be33dc6f734', '73448b56-a6c6-4c98-a153-ab704261e073', '85a57cfe-f1c9-44d9-8b50-022c0d3438d1', '0f74d992-00da-4728-9564-086ca1b95921', '0cb0dac8-4ce2-444a-b1ae-1550e065b4d9', 'fac2c617-8149-45bb-b766-fbe13dc3c425', '381cf7f3-cd7b-4660-8175-ff8062f7bf78', 'af3a0634-4292-45bd-b948-6b6bd2d58090', '2a971e32-b0e7-4a3f-8c40-62d69c0307d8', 'e83e5700-f968-4978-bb78-56a83936ce8c', '73a142e1-8ac2-4cfe-b8cf-7e9dea64f488', '0e87e5fd-d5bb-4c0d-952d-711a6abbf336', '85bdc1ac-a1a4-46c2-bc2d-e5fabf5c89e9', 'e831369c-78c0-4c75-9cf3-f46ed669312e', '69fb431f-0caf-4cdd-9085-eda5b18ed15d', 'e6ec5a68-7555-4f26-bd7e-9cdb4c5f7004', 'ce00896a-f7d2-4123-bb95-24cb6e53fc32', '6fc5e56a-1f5e-4ff1-948e-5ef636ebb48d', '4beee9d4-ee52-4fed-bcc4-d300f5ddd4d0', '95a54459-3fac-42d5-8ec1-ed66d971d64d', '4563e4e0-a661-46de-ad25-9c86a621e147', '74a0264d-1d31-430d-9a88-e7334c8aa96c', '33e989b9-fac4-47d8-b429-269044ac772a', '2c0a725a-e829-4d84-89d9-d0d47f6cfa37', '790266bc-c252-43f4-85d1-1b06ee529cf8', '21bdad0d-c6a2-428c-b2b4-0de282b34abc', 'eb191e71-4b6e-4c8d-8348-519be5a1e657', 'de287a25-981d-49f8-81af-fe0300e4cd31', '4be66108-e72a-406b-bb4b-f58ff2877336', 'd259eeb2-d15e-436d-9d37-2d0b7658bc91', 'GENERAL_METADATA', '56eb96a4-d2c2-42fb-b26c-1a80012bcb8e', '0f008098-d8aa-46dc-8445-cca59838c582', '92c043b6-8d53-4c1c-808a-c4be5e2926e6', '25c3201a-3dd5-4edf-ad09-104e5c10663e', '93edb105-5dc9-4a4a-9fca-c91f0161fcc7', 'd9fb85c3-ade1-47bf-8159-170f81eb130f', 'e8841edf-e070-425b-b4d4-bbb2115f9dbd', 'd651f9ba-8746-46c4-852c-6c2992c7d10e', '99c532b0-6b42-4925-a344-fc7262c415ee', '26a12266-c6d8-42f9-bd4e-5093d827ac9a', '9c45eaec-d854-4f51-80a3-2d80d6b4aebc', 'a9e4b6db-8b4b-4345-a4a1-d63175eb0174', '8e87ddca-f43e-4c6f-9d5b-430b666a7f6c', '31a3877d-3e82-450e-811f-3448b06f3950', '7a481097-14a3-4916-9632-d899c25fd284', 'eeb42912-0c7a-46bb-bd95-369b2b425727', 'aedde4a5-6520-40b9-9721-c9b826490b7a', 'fafd4576-0709-49e1-926f-ad1ee09907ec', '515a062e-f68e-4100-a923-bd2ce0bbe071', '7a6c54f1-f4e4-426b-b306-2ca3c4de12ca', '94067eb7-98b7-4975-bab1-c09e1b454a25', 'bfb07784-693b-4c25-874e-4ad6e04a5d46', '794131b8-f4be-4f15-b3b9-6f0b10a5a38b', '80e677b1-5ebe-4069-a1a5-1538ffee6642', 'cbdabbcd-d8f1-4d7c-9e18-ebd83d888c51', '3d8fd9b2-9aa2-4c81-8843-535ae66d6140', 'eed7405f-f8f3-41a4-a0e7-242f23087f59', 'c6ed47f4-358b-4f06-b5cd-cdf1d5c47b43', '39aec099-a33e-47a4-a602-cbf65ddd3830', '10881458-55b2-41d1-8358-4ee6ccb8ec85', '3758f4f7-ac2f-4f9d-bee2-526196f8129a', '0687bea4-911a-4ef2-9fa2-531ef6ba7910', '0b8de222-119a-40f3-8beb-12b9d933225b', '2d02bd7a-5beb-4e43-9ccb-18d89c9d5ca2', 'dde411b2-5d2b-4638-8149-89bc1eb3c7ad', 'c7c5348f-5708-45bf-b40e-1bf7c9348f60', '5e7074a6-5011-4dc5-950c-41365dbc6d09', '26a41625-4680-47b2-afa9-6a72b148e1c0', '6fbc2b46-6762-4778-aa7e-782162c5397c', 'ac13d568-f79e-4ba7-b7bf-18e4354e0920', '31d960d7-8f5b-4d22-bf5e-fae0849c4efd', 'f4e047a5-bdb2-4bc2-aff0-e0f45bcc9062', 'ca22edd4-eb7c-4677-84aa-6f0354459a19', '605baa86-79e3-484d-82d2-4de27d405ba1', '2db3c23d-c591-4ea0-b0a8-ed9c4343c80e', '35c295c2-37d1-44b2-87a3-1039645e5bae', '8a84b03a-e37e-4827-98f0-4d480ec31037', '56c8b812-ca8e-4eb2-b0fe-f264316789bf', 'bab21810-f51b-421e-a87f-1f1136cbc77a', '88e64f45-adc4-4223-9838-4d7d45b8f0c0', '51dcbfac-6f04-4364-877d-0bf1bd566335', 'c9e829d9-cd08-41a9-a5a4-34f2d7d619c7', '6fa41234-9077-4d05-a295-6820f3bedf5b', 'c6f6c032-5d4e-4028-aed0-24a587620354', '9d8c4693-8e36-473b-bb34-a7cdc04dd223', 'c658f35d-ceeb-4189-8e3d-03e3b9706667', '264c0d45-078a-4207-a101-71f99bcd237e', '1fd75c4d-e74c-410c-a150-814722c6c1cc', '21ddbfaa-1b21-4a2b-be2c-237dd69b20ff', '9d68516e-7e5c-403e-8aca-ea1abe0d6014', '4f786107-3cf5-4ab3-bba4-f399dee23f0e', 'b16bb717-d1cf-4237-a554-43f3995b82f2', '10628a61-bd5e-4415-af97-631c5ca320cb', 'd7ba64d7-b4e5-488d-9f28-bcb7bf3c0f35', '84959e50-17f5-4f2b-8e0c-5ebb139d2c3a', 'e3ca9046-9634-4332-b19f-88b18110f941', '303286c2-bc58-4bbb-9171-74cdb1d7f62f', '1b0b0533-7c4f-4edd-a75e-8b56f49d54ab', 'cac80259-3a26-4a99-b0d3-13454068e6ed', '14c13b05-abfe-472e-83a9-b28f60e58ad8', 'bc02f801-081b-489b-87cb-d275c70299d5', '0f940ec0-eb0b-422a-a764-a26c8e5c216d', '9fd08502-355b-4f5a-a25c-73ec7184f6d3', 'f89bbd17-c732-4847-b71c-a8627a702747', 'b612d491-7442-4119-a53c-5ebcc35c31f4', '76e96b5a-b565-42c7-a651-34d5132e6dde', 'dbbee8f5-d83d-4195-85cf-f89d327da0a9', 'c8de215d-53a4-4e6c-be58-5887a8094815', 'f88c0259-58ff-4bcc-a777-7705cdbd8213', '3470b1af-689f-467a-9f9e-de74088f9b94', '20ccd267-74e5-4574-a8e1-028bcd74aaeb', '124b6856-f581-46da-9068-b0a49b999785', '67ba29e7-f294-4dcd-9630-ad768c22c588', '043a4745-566b-4106-b159-99cb8b394b81', 'c21d2c68-920f-4526-b754-286579c049f3', '3a785e32-7960-4c72-84c4-fb42c4dd86f1', 'd9d7f0d4-fa64-48f2-8037-52cbf0b34ad8', '2b94070a-21ec-457b-88af-3d2a89b97ac6', 'e76258b7-e13a-4b05-855b-d792701ffba1', '4aadf2a2-ce1e-4f94-b146-59292e83e7fd', 'a19cd9f8-482b-4b70-b7d7-06d6bb1b0260', 'e7dbfca1-9657-4952-8e0d-dec6373dda5b', 'a56d528b-238a-4556-92c8-7645304a2da0', 'cc1d6ad3-b60d-482e-8fa4-0af26823007d', '15b987ba-77ab-477b-a54a-65ec5c7c399e', '3eb37b12-b8b4-40a3-bd8b-f89fc39c05fa', 'b079a153-62f9-4026-a2f8-a1390168bbb9', '955464c8-9c62-430c-87b8-107db5c980a8', 'bce5579c-08c6-48e9-853e-fac85ba8cbea', 'b95720b1-aa00-4c6a-b202-3350d035829f', '56d5b0b9-9093-4286-a2c6-7faa9a1680f5', 'f3b9defb-88ed-4c95-9feb-7197d869676c', '1a09207e-9184-4f32-bd07-a9f4dc6c825d', '2c30dc20-18a8-44f9-ab10-558c1e5634dc', 'a6f98ee5-9638-4ebe-804b-fba54aea9f90', '9b2c325c-1f03-43c7-ad5c-b49c6d205635', 'aa909ffb-03e1-4e3f-8888-2212b23d90b7', '0c53b010-4243-4da3-a059-7f54c9a850ec', 'be85f845-b281-467c-8b97-bed7b7fdff64', 'ffa7e03a-4a3c-41f0-937a-4fb862fd2194', '81555ac5-9cc2-49ae-9033-657f56243f20', '0dacc5ce-498f-4c60-9f78-7a013ffaa9ce', 'c0b8c55c-b993-481d-aeea-9ebfa64ee20e', '654c6f5c-3e5c-49f0-b53f-87cd9797d7c9', '73f9681a-f9ef-4880-bd16-93624fd117c6', 'b08b5f49-9434-4653-9772-097ec29b2ca3', 'd71ae66e-2c8a-4fd8-8b4b-a5a2d456a21d', '81f6b141-2195-4091-9cd3-dfb022663949', 'c8d7eb0f-2502-4277-a8ef-435b08f3c863', '286cbae3-8324-43b7-9b20-0f40dda1588e', '65056295-8fcd-4f82-a3c9-a5acd79521fe', '40c217ee-429f-41f4-adc6-db9186622b17', '8d0fa506-3f51-4108-8427-7dabf270bcd4', '4881a390-c4e4-48b4-ae66-140c64a87614', '849031de-ac8a-4012-9362-d192512997f1', '6775ce57-b4cf-425c-a898-061bb9a8a1a8', 'a512701f-88bb-4b05-8c94-fd285b9dd13e', '2900eadd-7e27-4371-94e5-7d58cdff0138', '300fff5a-0f61-402d-b845-3938ba7b1294', 'a5e14add-1552-4606-9ffe-3a03bcf76640', '7ea546ce-f48a-4d9c-96b4-a0124c692870', '95d4f0c4-5997-4ffb-b876-0ddfeee972bb', 'fb4cc403-694c-421f-b360-3108b6d57ad5', '4f9775f2-b663-4daf-aa9e-50915cae9407', '65bb7520-f055-43a8-b735-1152fa2c9e04', '0a94eecf-4db2-4846-8383-c83ff02e4a9f', '5d66191d-da49-4d7e-89a4-a382db338340', 'bc42fe2d-1a33-428d-a601-b1871f4c8d9b', 'd761bc06-dee8-478a-be99-8af9c504e49c', 'f6c674bf-396d-4bfe-8d08-e7266c314be3', 'e8ec26bd-c88d-42b9-ac8a-ab121b8140f8', 'c59d90a6-9cda-426d-b8ea-41f0a87033d5', 'cab7bdbc-0a11-4901-97c3-26b884f79cb5', '01f493d4-229d-47a6-baa8-32a342c65d01', '57a2044d-20cc-4d02-b268-ce570a0fabe3', '75ea63a9-357b-4566-bd78-eaa67809decd', '6cd8d2dd-5545-43b0-b796-ae0506d62eb8', '62d39be5-f029-4eb8-8b00-46470e06a755', 'e6c8c5fc-158a-4de4-b3f6-3b645584bbc7', 'b718134c-5231-4f29-a423-7bad17c93fc5', '44c2854e-3f8c-48e1-b4d5-1b5778d4fce4', '315ef7f6-ca21-4d87-8f19-40bd455885ec', '19089ae0-b590-4649-9d94-a147fa506e32', 'fa96d094-0165-401c-8fd5-6d1ee4ef3994', 'f9b5e6a5-c2da-4a0d-9251-bb6f557b7b58', '764c97c9-01d3-45cb-86bd-f8a52b5468da', '5498d5ef-ad24-4034-9750-7c996c5355e1', '13ae9d83-a22f-451f-88bb-686051725cf3', 'cee553c8-460d-436b-b55d-8f41624816cc', 'e3b6018c-ab2c-47c5-b183-a295d0110835', '81a7184e-f9f5-4e3f-9603-5f5642386c1e', '80809d79-92e1-4d6c-ba2e-0a9589997792', 'd5a1f43e-25a7-47f5-b63e-43714f9f732a', '6454ff0c-26f8-4cc2-b77c-7e5abdc20acd', '5f1399ef-8100-49e7-806f-9f532e55c0ba', 'cc53bf9e-5e27-4305-a08b-552120c10aa5', '0ec6ed47-db99-4273-9823-ffbde6a77091', 'dd7a53ee-cb08-40c4-9935-51d1ca17e9e8', '05ff79c5-1127-4cac-8f4c-84089a3f2cde', '58facedb-fcb8-4ecf-8338-2bfa4947acef', 'ddf69ed9-4c53-48b8-9f01-495bd60c3425', '8c043ecd-2265-411f-bc3b-dc341cf56ac2', 'c83d38fc-e011-4f75-a100-96513611f3e9', 'abe658e0-33f9-4f57-849b-dec4d20964d6', 'af06cde0-c69a-4bb1-a234-8023b95e4835', '9f45a227-1fd5-478c-a194-4a5c61b68cc3', 'd7048098-09b3-4763-ad54-9c5c6fe14bc0', '6a4031c6-ee88-48be-81a5-a522720edd02', 'ba49b428-246d-46d2-b549-39a5fc8f7003', '55697871-b9aa-4acd-8dbe-dcd5391db8f0', 'a06c09a8-0951-49f4-a765-5147bbcae109', '7ad0617e-bc4a-4869-8419-744f04d9b7a3', '9382987c-b5b3-48fe-8194-4d83fe340cd0', 'e588714a-7753-4c3c-abb6-eaf1aab53ab3', 'f5c3bc61-1018-4351-bb23-aacc1459365f', '081a3dc7-45e1-457d-add0-c4686140a8d0', 'ff1407c6-9174-4bae-a19b-d34ca71b898c', '849442d3-eb82-416e-9d36-2fc15dfac67a', '36eaf209-c332-4321-b6aa-51a3368ecd79', 'eecaa5cd-0b69-4af2-a782-035025f207b6', 'b6202d8d-dd3c-4fa2-9242-6e55759846af', 'd2c99bed-3446-4d12-99e0-00611faa37dc', 'c48e2ce0-3806-4675-92f3-d38ff67c5efa', 'd4da3298-3a02-44a6-bdcd-d260f38e520b', '4c6c8d3d-e4a3-490a-9211-cfbe7e6ee25b', 'cc15469c-7bad-4e86-9da3-ae0c72e9d380', '227f945f-76fd-4a63-9609-d4e730a3d22a', 'f4a804d3-b5c4-4da5-800f-6e5757ecfa1c', 'c113808a-773f-4179-82d6-9083518404b5', 'bf69a4ce-ec7e-4752-a86d-dcc80e3c9a57', '628408ce-0691-4e0b-b4c7-aca9a0d73bb0', '326c1637-ea91-4006-b440-d38420af1ae5', '401a37f3-6630-4400-a811-a262351e37de', '1add38c2-df6f-47c9-9373-0bec0e40baf8', 'f83b909c-da90-41ed-b532-a2ef9371cff9', '3aae5316-6a5d-4b83-9020-ad691d4edf99', '960d278c-c87d-42dc-ad28-42e010d8f0f1', '2e386e48-b99b-4806-a3e3-081d72a606e7', '4138aca8-e085-45fb-b353-74852efe61bf', '0c463362-7925-4d9a-9d63-098b50af2fb9', 'c4d74653-d26b-4e51-aee0-82ee3d42f883', '568dbda7-88b5-4330-881f-dc5d6c7ce4ae', '091e3084-04ee-4497-893c-d46226dec78f', '3e0c34cb-fca5-4bcf-a5c1-5a7d286dd072', 'e457344d-76fb-46bf-b362-61a6e811d131', '01ad5016-f691-4bca-82a0-910429d8d25b', '1ad0b9b9-7ded-4281-b114-9dcc6138c037', 'ae6b315f-3f78-4695-adfa-48b0bbab2c89', '77a44132-af22-4115-9fa2-78f2f74bf687', 'c594196e-49ef-4195-a6b6-4ef4a1d9ec15', 'd4e1472a-7b5f-46f4-acb7-b961f634e28e', '7f6898e2-a840-4ad1-80f7-783f8b766fcc', 'b728e6e8-a0e4-496b-904c-6f07c12e901f', '35c9264f-34ec-4d75-ab80-aaac86108fc8', '80311cf5-7e18-4545-92ad-c4b7dd5c9677', '03efbc94-a43d-4db0-9377-e397348430a6', 'c8d6fe73-3504-42a5-9723-e1916fba8208', '13eff2e5-e33a-485f-9ba4-8a7ccb3c7528', '7144a65f-a63f-4b79-8fe2-cfe48696de03', '57b0f89f-1b75-453e-922c-01cd4d44ca49', 'slide_statistics.csv', 'c777a777-373a-4773-9566-6c373261f00a', '14cc6f5b-5692-471e-98b4-ae200b3d8fed', '5c24435e-8e50-42c2-80c7-919b1cad0133', '79d33c28-a7e2-4fca-8be1-a16fb6d68d49', '93690a96-421c-4c59-85ba-fa6dd538c721', 'd7ebd11a-1339-4b28-be90-a788d2cfa706', 'cc22913d-2dda-48bb-82aa-9960b73f3e44', 'd181c72b-843c-4b2d-b014-2a6dd1c3c1ec', '97f6c8d3-09a0-4128-8f10-41e736648a5f', 'ef4bb5bf-4535-4bd1-8a74-aba920123ee2', 'dca004bf-9c14-45a1-b186-ab3759f6c7fe', 'fa83dfb5-7386-4a35-9861-aa866478d5f1', 'c46971a1-cbac-425d-bac2-f4142c92522e', 'e75985cb-357e-4072-b047-eea37965d70c', '733d8b6a-ca9d-4a69-8c9c-1f88733e8b68', '47a8e514-904c-4867-8f43-7eb573be835b', '39d3b5b3-d51e-4d77-a8aa-2977fa734fab', '6f2b5a14-569c-4084-8c67-b1a44d787897', 'a8b4284d-cbbb-43e3-897b-d04af4bfba74', '49929108-023e-4d35-b26d-50ab4d3ae581', '857a5889-19e7-4208-8362-f1377c408037', '132229e5-947d-43e9-a54c-a97d4be7d604', 'f1e6ce83-b4a0-4643-8e8e-a1ef8a158a27', 'e5921d6b-51cf-44be-b295-610cf7c3a69a', 'b89267a4-0e6b-401e-85b0-e66775858aa6', '01240896-3f3f-4bf9-9799-55c87bfacf36', '64b0461f-038d-4712-948e-818dc2f10eef', 'ac6a3df9-41b1-4e5a-a15e-f44481384c23', 'c293a148-a88c-4fb3-b2f4-e64e918044f9', '33522271-b2ca-4da4-a942-501ab9117c51', '39b6ae01-c97b-4234-8a28-208fdf170432', '5b259d18-3976-4f44-967f-fe5fa8447c8b', '755d3bde-76c3-45c1-8427-8e4d5d686dc1', '23252dca-e836-47a0-b294-758ad60aa259', 'a435fdf4-a89a-499e-9006-cbb5693eab26', 'd5619045-060a-4b60-86e4-6a5774994fd4', 'b4c3cf95-a27c-4bcf-9321-38723473e83b', 'c085da47-d634-491a-80ea-514e5a231f70', 'ec3f3f11-75df-4fcc-ba03-f19aca907645', '35620be9-3ba5-4be7-9e00-83103e6a92e6', 'ab9cc98a-86ae-4913-bcb2-cc3aeff8abb1', '64bd568d-0509-48fe-8d0a-aef2a85d5c57', '27d9c162-11bb-48fb-a41a-aa05fcb4c1c2']\n"
     ]
    },
    {
     "ename": "FileNotFoundError",
     "evalue": "[Errno 2] No such file or directory: 'methylation_VAE_TRAIN_DATA/TCGA-COAD'",
     "output_type": "error",
     "traceback": [
      "\u001b[0;31m---------------------------------------------------------------------------\u001b[0m",
      "\u001b[0;31mFileNotFoundError\u001b[0m                         Traceback (most recent call last)",
      "Cell \u001b[0;32mIn[1], line 14\u001b[0m\n\u001b[1;32m     11\u001b[0m illumina_27k_count \u001b[38;5;241m=\u001b[39m \u001b[38;5;241m0\u001b[39m\n\u001b[1;32m     12\u001b[0m total_files \u001b[38;5;241m=\u001b[39m \u001b[38;5;241m0\u001b[39m\n\u001b[0;32m---> 14\u001b[0m \u001b[38;5;28;01mfor\u001b[39;00m case_folder \u001b[38;5;129;01min\u001b[39;00m \u001b[43mos\u001b[49m\u001b[38;5;241;43m.\u001b[39;49m\u001b[43mlistdir\u001b[49m\u001b[43m(\u001b[49m\u001b[43mbase_data_dir\u001b[49m\u001b[43m)\u001b[49m:\n\u001b[1;32m     15\u001b[0m     case_folder_path \u001b[38;5;241m=\u001b[39m os\u001b[38;5;241m.\u001b[39mpath\u001b[38;5;241m.\u001b[39mjoin(base_data_dir, case_folder)\n\u001b[1;32m     17\u001b[0m     \u001b[38;5;28;01mif\u001b[39;00m os\u001b[38;5;241m.\u001b[39mpath\u001b[38;5;241m.\u001b[39misdir(case_folder_path):\n",
      "\u001b[0;31mFileNotFoundError\u001b[0m: [Errno 2] No such file or directory: 'methylation_VAE_TRAIN_DATA/TCGA-COAD'"
     ]
    }
   ],
   "source": [
    "import os\n",
    "import pandas as pd\n",
    "\n",
    "all_data = pd.DataFrame()\n",
    "base_data_dir = \"methylation_VAE_TRAIN_DATA/TCGA-COAD\"\n",
    "#base_data_dir = \"cases\"\n",
    "\n",
    "print(os.listdir(\"cases\"))\n",
    "\n",
    "illumina_450k_count = 0\n",
    "illumina_27k_count = 0\n",
    "total_files = 0\n",
    "\n",
    "for case_folder in os.listdir(base_data_dir):\n",
    "    case_folder_path = os.path.join(base_data_dir, case_folder)\n",
    "    \n",
    "    if os.path.isdir(case_folder_path):\n",
    "        dnamethylation_folder = os.path.join(case_folder_path, \"DNA Methylation\")\n",
    "        \n",
    "        if os.path.exists(dnamethylation_folder):\n",
    "            for file_name in os.listdir(dnamethylation_folder):\n",
    "                if file_name.endswith(\".txt\"):\n",
    "                    beta_file_path = os.path.join(dnamethylation_folder, file_name)\n",
    "                    beta_data = pd.read_csv(beta_file_path, sep=\"\\t\", header=0, index_col=0)\n",
    "                    beta_data = beta_data.transpose()\n",
    "\n",
    "                    print(f\"Processing file: {beta_file_path}\")\n",
    "                    print(\"beta_data shape before processing:\", beta_data.shape)\n",
    "\n",
    "                    if beta_data.shape[1] >= 30000 and beta_data.shape[1] <= 500000:\n",
    "                        illumina_450k_count += 1\n",
    "                    else:\n",
    "                        illumina_27k_count += 1\n",
    "                        total_files += 1\n",
    "                        continue\n",
    "\n",
    "                    existing_cpgs = set(all_data.index)\n",
    "                    new_cpgs = set(beta_data.index)\n",
    "\n",
    "                    new_data = beta_data.loc[beta_data.index.difference(existing_cpgs)]\n",
    "\n",
    "                    if not new_data.empty:\n",
    "                        all_data = pd.concat([all_data, new_data], axis=0, join='outer')\n",
    "\n",
    "                    print(\"all_data shape after processing:\", all_data.shape)\n",
    "\n",
    "                    total_files += 1\n",
    "\n",
    "illumina_450k_percentage = (illumina_450k_count / total_files) * 100 if total_files else 0\n",
    "illumina_27k_percentage = (illumina_27k_count / total_files) * 100 if total_files else 0\n",
    "\n",
    "print(f\"Illumina 450k count: {illumina_450k_count}, Percentage: {illumina_450k_percentage:.2f}%\")\n",
    "print(f\"Illumina 27k count: {illumina_27k_count}, Percentage: {illumina_27k_percentage:.2f}%\")\n",
    "print(\"Final shape of all_data:\", all_data.shape)"
   ]
  },
  {
   "cell_type": "markdown",
   "metadata": {},
   "source": [
    "Final shape of all_data: (352, 486426)"
   ]
  },
  {
   "cell_type": "code",
   "execution_count": null,
   "metadata": {},
   "outputs": [],
   "source": [
    "#all_data.to_csv(\"final_methylation_data_TCGA-READ.csv\")\n",
    "\n",
    "all_data.to_parquet(\"aggregated_methylation_data/final_methylation_data_TCGA-LUAD.parquet\", index=False)"
   ]
  },
  {
   "cell_type": "code",
   "execution_count": null,
   "metadata": {},
   "outputs": [],
   "source": [
    "import rpy2.robjects as ro\n",
    "import pandas as pd\n",
    "\n",
    "custom_path = \"/aggregated_methylation_data\"\n",
    "\n",
    "ro.r(f'library(IlluminaHumanMethylation450kanno.ilmn12.hg19, lib.loc=\"{custom_path}\")')\n",
    "ro.r('data(IlluminaHumanMethylation450kanno.ilmn12.hg19)')\n",
    "annotation_data = ro.r('IlluminaHumanMethylation450kanno.ilmn12.hg19')\n",
    "\n",
    "print(annotation_data)"
   ]
  }
 ],
 "metadata": {
  "kernelspec": {
   "display_name": "research_venv",
   "language": "python",
   "name": "python3"
  },
  "language_info": {
   "codemirror_mode": {
    "name": "ipython",
    "version": 3
   },
   "file_extension": ".py",
   "mimetype": "text/x-python",
   "name": "python",
   "nbconvert_exporter": "python",
   "pygments_lexer": "ipython3",
   "version": "3.12.9"
  }
 },
 "nbformat": 4,
 "nbformat_minor": 2
}
