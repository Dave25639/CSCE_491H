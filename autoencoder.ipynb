{
 "cells": [
  {
   "cell_type": "code",
   "execution_count": null,
   "metadata": {},
   "outputs": [],
   "source": [
    "# Based on https://github.com/sonjakatz/methAE_explainableAE_methylation/blob/master/models/autoencoder.py\n",
    "\n",
    "import torch\n",
    "from torch import nn\n",
    "import numpy as np\n",
    "\n",
    "class Autoencoder(nn.Module):\n",
    "    def __init__(self,\n",
    "                inputDim,\n",
    "                latentSize,\n",
    "                hidden_layer_encoder_topology=[]):\n",
    "        super(Autoencoder, self).__init__()\n",
    "        self.inputDim = inputDim\n",
    "        self.hidden_layer_encoder_topology = hidden_layer_encoder_topology\n",
    "        self.latentSize = latentSize\n",
    "\n",
    "        ### Define encoder\n",
    "        self.encoder_topology = [self.inputDim] + self.hidden_layer_encoder_topology + [self.latentSize]\n",
    "        self.encoder_layers = []\n",
    "        for i in range(len(self.encoder_topology)-1):\n",
    "            layer = nn.Linear(self.encoder_topology[i],self.encoder_topology[i+1])\n",
    "            torch.nn.init.xavier_normal_(layer.weight)  ## weight initialisation\n",
    "            self.encoder_layers.append(layer)\n",
    "            self.encoder_layers.append(nn.PReLU())\n",
    "            self.encoder_layers.append(nn.BatchNorm1d(self.encoder_topology[i+1])) ## add this for better training?\n",
    "        self.encoder = nn.Sequential(*self.encoder_layers)\n",
    "        \n",
    "        ### Define decoder\n",
    "        self.decoder_topology = [self.latentSize] + self.hidden_layer_encoder_topology[::-1] + [self.inputDim]\n",
    "        self.decoder_layers = []\n",
    "        for i in range(len(self.decoder_topology)-1):\n",
    "            layer = nn.Linear(self.decoder_topology[i],self.decoder_topology[i+1])\n",
    "            torch.nn.init.xavier_uniform_(layer.weight)  ### weight initialisation\n",
    "            self.decoder_layers.append(layer)\n",
    "            self.decoder_layers.append(nn.PReLU())\n",
    "        self.decoder_layers[-1] = nn.Sigmoid() ### replace activation of final layer with Sigmoid()\n",
    "        self.decoder = nn.Sequential(*self.decoder_layers)\n",
    "\n",
    "    def encode(self, x):\n",
    "        hidden = self.encoder(x)\n",
    "        return hidden\n",
    "    \n",
    "    def decode(self, z):\n",
    "        x_hat = self.decoder(z)\n",
    "        return x_hat\n",
    "\n",
    "    def generate_embedding(self,x):\n",
    "        z = self.encode(x)\n",
    "        return z\n",
    "    \n",
    "    def forward(self, x):\n",
    "        z = self.encode(x)\n",
    "        x_hat = self.decode(z)\n",
    "        return x_hat"
   ]
  },
  {
   "cell_type": "code",
   "execution_count": 3,
   "metadata": {},
   "outputs": [],
   "source": [
    "import torch\n",
    "import torch.nn as nn\n",
    "import torch.optim as optim\n",
    "import pandas as pd\n",
    "from torch.utils.data import DataLoader, TensorDataset\n",
    "\n",
    "data_paths = [\"filtered_methylation_data/luad_top250kMAD_cpg.parquet\", \"filtered_methylation_data/read_top250kMAD_cpg.parquet\"]\n",
    "\n",
    "df_list = []\n",
    "\n",
    "for path in data_paths:\n",
    "    df = pd.read_parquet(path)\n",
    "    df_list.append(df)\n",
    "\n",
    "combined_df = pd.concat(df_list, ignore_index=True)"
   ]
  },
  {
   "cell_type": "code",
   "execution_count": 4,
   "metadata": {},
   "outputs": [
    {
     "name": "stdout",
     "output_type": "stream",
     "text": [
      "Epoch [1/10], Loss: 0.028966\n",
      "Epoch [2/10], Loss: 0.009537\n",
      "Epoch [3/10], Loss: 0.008864\n",
      "Epoch [4/10], Loss: 0.008403\n",
      "Epoch [5/10], Loss: 0.008077\n",
      "Epoch [6/10], Loss: 0.007795\n",
      "Epoch [7/10], Loss: 0.007619\n",
      "Epoch [8/10], Loss: 0.007458\n",
      "Epoch [9/10], Loss: 0.007363\n",
      "Epoch [10/10], Loss: 0.007262\n"
     ]
    }
   ],
   "source": [
    "data_tensor = torch.tensor(combined_df.values, dtype=torch.float32)\n",
    "\n",
    "batch_size = 16\n",
    "dataset = TensorDataset(data_tensor)\n",
    "data_loader = DataLoader(dataset, batch_size=batch_size, shuffle=True)\n",
    "\n",
    "input_size = df.shape[1]\n",
    "latent_dim = 100\n",
    "hidden_layers = [256, 128]\n",
    "\n",
    "device = torch.device(\"cuda\")\n",
    "model = normalAE(input_size, latent_dim, hidden_layers).to(device)\n",
    "\n",
    "loss_function = nn.MSELoss()\n",
    "optimizer = optim.Adam(model.parameters(), lr=1e-3)\n",
    "\n",
    "epochs = 10\n",
    "for epoch in range(epochs):\n",
    "    model.train()\n",
    "    epoch_loss = 0\n",
    "    for batch in data_loader:\n",
    "        batch_data = batch[0].to(device)\n",
    "        \n",
    "        optimizer.zero_grad()\n",
    "        reconstructed = model(batch_data)\n",
    "        loss = loss_function(reconstructed, batch_data)\n",
    "        loss.backward()\n",
    "        optimizer.step()\n",
    "        \n",
    "        epoch_loss += loss.item()\n",
    "    \n",
    "    print(f\"Epoch [{epoch+1}/{epochs}], Loss: {epoch_loss / len(data_loader):.6f}\")"
   ]
  },
  {
   "cell_type": "code",
   "execution_count": 5,
   "metadata": {},
   "outputs": [
    {
     "name": "stdout",
     "output_type": "stream",
     "text": [
      "cg16328106    0\n",
      "cg25363807    0\n",
      "cg18158151    0\n",
      "cg11738485    0\n",
      "cg25737323    0\n",
      "             ..\n",
      "cg10080155    0\n",
      "cg24312390    0\n",
      "cg07971753    0\n",
      "cg22647322    0\n",
      "cg15410276    0\n",
      "Length: 250000, dtype: int64\n",
      "cg16328106    0\n",
      "cg25363807    0\n",
      "cg18158151    0\n",
      "cg11738485    0\n",
      "cg25737323    0\n",
      "             ..\n",
      "cg10080155    0\n",
      "cg24312390    0\n",
      "cg07971753    0\n",
      "cg22647322    0\n",
      "cg15410276    0\n",
      "Length: 250000, dtype: int64\n"
     ]
    }
   ],
   "source": [
    "print(combined_df.isna().sum())  # Check for NaN values\n",
    "print((combined_df == float('inf')).sum())  # Check for infinite values"
   ]
  },
  {
   "cell_type": "code",
   "execution_count": null,
   "metadata": {},
   "outputs": [],
   "source": [
    "model_path = \"models/ae_normalAE.pth\"\n",
    "torch.save(model.state_dict(), model_path)"
   ]
  }
 ],
 "metadata": {
  "kernelspec": {
   "display_name": "research_venv",
   "language": "python",
   "name": "python3"
  },
  "language_info": {
   "codemirror_mode": {
    "name": "ipython",
    "version": 3
   },
   "file_extension": ".py",
   "mimetype": "text/x-python",
   "name": "python",
   "nbconvert_exporter": "python",
   "pygments_lexer": "ipython3",
   "version": "3.12.9"
  }
 },
 "nbformat": 4,
 "nbformat_minor": 2
}
